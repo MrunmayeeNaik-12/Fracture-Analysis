{
  "cells": [
    {
      "cell_type": "code",
      "execution_count": 33,
      "metadata": {
        "id": "7hVQg_rTUogn"
      },
      "outputs": [],
      "source": [
        "import pandas as pd\n",
        "import seaborn as sns\n",
        "import numpy as np\n",
        "import matplotlib.pyplot as plt\n"
      ]
    },
    {
      "cell_type": "code",
      "execution_count": 34,
      "metadata": {
        "id": "l6fy83rnVIGK"
      },
      "outputs": [],
      "source": [
        "df=pd.read_csv('Dataset.csv')"
      ]
    },
    {
      "cell_type": "code",
      "execution_count": 35,
      "metadata": {
        "colab": {
          "base_uri": "https://localhost:8080/",
          "height": 424
        },
        "id": "c3gNz187VPk-",
        "outputId": "a1d9f79c-b326-437c-e80c-ce15a8d793e9"
      },
      "outputs": [
        {
          "data": {
            "text/html": [
              "<div>\n",
              "<style scoped>\n",
              "    .dataframe tbody tr th:only-of-type {\n",
              "        vertical-align: middle;\n",
              "    }\n",
              "\n",
              "    .dataframe tbody tr th {\n",
              "        vertical-align: top;\n",
              "    }\n",
              "\n",
              "    .dataframe thead th {\n",
              "        text-align: right;\n",
              "    }\n",
              "</style>\n",
              "<table border=\"1\" class=\"dataframe\">\n",
              "  <thead>\n",
              "    <tr style=\"text-align: right;\">\n",
              "      <th></th>\n",
              "      <th>SI.NO</th>\n",
              "      <th>DATE</th>\n",
              "      <th>NAME</th>\n",
              "      <th>AGE</th>\n",
              "      <th>SEX</th>\n",
              "      <th>ASSO MEDICAL PROB</th>\n",
              "      <th>H/O INJURY/SURGERY</th>\n",
              "      <th>DRUG HISTORY</th>\n",
              "      <th>FREQUENCY</th>\n",
              "      <th>avg</th>\n",
              "    </tr>\n",
              "  </thead>\n",
              "  <tbody>\n",
              "    <tr>\n",
              "      <th>0</th>\n",
              "      <td>1</td>\n",
              "      <td>01-02-2017</td>\n",
              "      <td>PATIENT_1</td>\n",
              "      <td>29</td>\n",
              "      <td>Male</td>\n",
              "      <td>no</td>\n",
              "      <td>no</td>\n",
              "      <td>no</td>\n",
              "      <td>115, 115, 113</td>\n",
              "      <td>114.30</td>\n",
              "    </tr>\n",
              "    <tr>\n",
              "      <th>1</th>\n",
              "      <td>2</td>\n",
              "      <td>01-03-2017</td>\n",
              "      <td>PATIENT_2</td>\n",
              "      <td>36</td>\n",
              "      <td>Female</td>\n",
              "      <td>no</td>\n",
              "      <td>no</td>\n",
              "      <td>no</td>\n",
              "      <td>95,94,96</td>\n",
              "      <td>94.00</td>\n",
              "    </tr>\n",
              "    <tr>\n",
              "      <th>2</th>\n",
              "      <td>3</td>\n",
              "      <td>01-03-2017</td>\n",
              "      <td>PATIENT_3</td>\n",
              "      <td>37</td>\n",
              "      <td>Male</td>\n",
              "      <td>no</td>\n",
              "      <td>no</td>\n",
              "      <td>no</td>\n",
              "      <td>80,82,81</td>\n",
              "      <td>81.00</td>\n",
              "    </tr>\n",
              "    <tr>\n",
              "      <th>3</th>\n",
              "      <td>4</td>\n",
              "      <td>01-03-2017</td>\n",
              "      <td>PATIENT_4</td>\n",
              "      <td>37</td>\n",
              "      <td>Female</td>\n",
              "      <td>no</td>\n",
              "      <td>no</td>\n",
              "      <td>no</td>\n",
              "      <td>100, 101, 100</td>\n",
              "      <td>100.33</td>\n",
              "    </tr>\n",
              "    <tr>\n",
              "      <th>4</th>\n",
              "      <td>5</td>\n",
              "      <td>01-03-2017</td>\n",
              "      <td>PATIENT_5</td>\n",
              "      <td>38</td>\n",
              "      <td>female</td>\n",
              "      <td>no</td>\n",
              "      <td>no</td>\n",
              "      <td>no</td>\n",
              "      <td>9,91,00,100.40</td>\n",
              "      <td>99.80</td>\n",
              "    </tr>\n",
              "    <tr>\n",
              "      <th>...</th>\n",
              "      <td>...</td>\n",
              "      <td>...</td>\n",
              "      <td>...</td>\n",
              "      <td>...</td>\n",
              "      <td>...</td>\n",
              "      <td>...</td>\n",
              "      <td>...</td>\n",
              "      <td>...</td>\n",
              "      <td>...</td>\n",
              "      <td>...</td>\n",
              "    </tr>\n",
              "    <tr>\n",
              "      <th>995</th>\n",
              "      <td>996</td>\n",
              "      <td>12/29/2017</td>\n",
              "      <td>PATIENT_996</td>\n",
              "      <td>72</td>\n",
              "      <td>Male</td>\n",
              "      <td>no</td>\n",
              "      <td>no</td>\n",
              "      <td>no</td>\n",
              "      <td>68, 69, 68</td>\n",
              "      <td>68.30</td>\n",
              "    </tr>\n",
              "    <tr>\n",
              "      <th>996</th>\n",
              "      <td>997</td>\n",
              "      <td>12/29/2017</td>\n",
              "      <td>PATIENT_997</td>\n",
              "      <td>72</td>\n",
              "      <td>Male</td>\n",
              "      <td>Yes(Diabetes,Blockage in Heart)</td>\n",
              "      <td>shouler surgery</td>\n",
              "      <td>yes</td>\n",
              "      <td>69,70,71</td>\n",
              "      <td>70.00</td>\n",
              "    </tr>\n",
              "    <tr>\n",
              "      <th>997</th>\n",
              "      <td>998</td>\n",
              "      <td>12/31/2017</td>\n",
              "      <td>PATIENT_998</td>\n",
              "      <td>74</td>\n",
              "      <td>Female</td>\n",
              "      <td>yes(diabetes,bp)</td>\n",
              "      <td>knee surgery</td>\n",
              "      <td>yes</td>\n",
              "      <td>63,62,62.6</td>\n",
              "      <td>62.53</td>\n",
              "    </tr>\n",
              "    <tr>\n",
              "      <th>998</th>\n",
              "      <td>999</td>\n",
              "      <td>12/31/2017</td>\n",
              "      <td>PATIENT_999</td>\n",
              "      <td>76</td>\n",
              "      <td>Male</td>\n",
              "      <td>yes(diabetes,kidney stone)</td>\n",
              "      <td>no</td>\n",
              "      <td>no</td>\n",
              "      <td>62,61,62.5</td>\n",
              "      <td>61.83</td>\n",
              "    </tr>\n",
              "    <tr>\n",
              "      <th>999</th>\n",
              "      <td>1000</td>\n",
              "      <td>12/31/2017</td>\n",
              "      <td>PATIENT_1000</td>\n",
              "      <td>85</td>\n",
              "      <td>Male</td>\n",
              "      <td>yes (diabetes,heart blockage)</td>\n",
              "      <td>yes(open heart surgery)</td>\n",
              "      <td>yes</td>\n",
              "      <td>62,63,64</td>\n",
              "      <td>63.00</td>\n",
              "    </tr>\n",
              "  </tbody>\n",
              "</table>\n",
              "<p>1000 rows × 10 columns</p>\n",
              "</div>"
            ],
            "text/plain": [
              "     SI.NO        DATE          NAME  AGE     SEX  \\\n",
              "0        1  01-02-2017     PATIENT_1   29    Male   \n",
              "1        2  01-03-2017     PATIENT_2   36  Female   \n",
              "2        3  01-03-2017     PATIENT_3   37    Male   \n",
              "3        4  01-03-2017     PATIENT_4   37  Female   \n",
              "4        5  01-03-2017     PATIENT_5   38  female   \n",
              "..     ...         ...           ...  ...     ...   \n",
              "995    996  12/29/2017   PATIENT_996   72    Male   \n",
              "996    997  12/29/2017   PATIENT_997   72    Male   \n",
              "997    998  12/31/2017   PATIENT_998   74  Female   \n",
              "998    999  12/31/2017   PATIENT_999   76    Male   \n",
              "999   1000  12/31/2017  PATIENT_1000   85    Male   \n",
              "\n",
              "                   ASSO MEDICAL PROB       H/O INJURY/SURGERY DRUG HISTORY  \\\n",
              "0                                 no                       no           no   \n",
              "1                                 no                       no           no   \n",
              "2                                 no                       no           no   \n",
              "3                                 no                       no           no   \n",
              "4                                 no                       no           no   \n",
              "..                               ...                      ...          ...   \n",
              "995                               no                       no           no   \n",
              "996  Yes(Diabetes,Blockage in Heart)          shouler surgery          yes   \n",
              "997                 yes(diabetes,bp)             knee surgery          yes   \n",
              "998       yes(diabetes,kidney stone)                       no           no   \n",
              "999    yes (diabetes,heart blockage)  yes(open heart surgery)          yes   \n",
              "\n",
              "          FREQUENCY     avg  \n",
              "0     115, 115, 113  114.30  \n",
              "1          95,94,96   94.00  \n",
              "2          80,82,81   81.00  \n",
              "3     100, 101, 100  100.33  \n",
              "4    9,91,00,100.40   99.80  \n",
              "..              ...     ...  \n",
              "995      68, 69, 68   68.30  \n",
              "996        69,70,71   70.00  \n",
              "997      63,62,62.6   62.53  \n",
              "998      62,61,62.5   61.83  \n",
              "999        62,63,64   63.00  \n",
              "\n",
              "[1000 rows x 10 columns]"
            ]
          },
          "execution_count": 35,
          "metadata": {},
          "output_type": "execute_result"
        }
      ],
      "source": [
        "df"
      ]
    },
    {
      "cell_type": "code",
      "execution_count": 36,
      "metadata": {
        "id": "gYpvR7bJVQh-"
      },
      "outputs": [],
      "source": [
        "df.drop(['SI.NO','DATE','NAME'],axis=1,inplace=True)"
      ]
    },
    {
      "cell_type": "code",
      "execution_count": 37,
      "metadata": {
        "colab": {
          "base_uri": "https://localhost:8080/"
        },
        "id": "YNgFkbKrXdf8",
        "outputId": "bba9bef3-8dd8-4723-a0b1-4f439f8cf394"
      },
      "outputs": [
        {
          "data": {
            "text/plain": [
              "AGE                   0\n",
              "SEX                   0\n",
              "ASSO MEDICAL PROB     0\n",
              "H/O INJURY/SURGERY    0\n",
              "DRUG HISTORY          0\n",
              "FREQUENCY             0\n",
              "avg                   0\n",
              "dtype: int64"
            ]
          },
          "execution_count": 37,
          "metadata": {},
          "output_type": "execute_result"
        }
      ],
      "source": [
        "df.isnull().sum()"
      ]
    },
    {
      "cell_type": "code",
      "execution_count": 38,
      "metadata": {
        "colab": {
          "base_uri": "https://localhost:8080/",
          "height": 300
        },
        "id": "ev4L4ZCXWJi5",
        "outputId": "a99a499c-a0ea-4e43-bdfc-f36685768753"
      },
      "outputs": [
        {
          "data": {
            "text/html": [
              "<div>\n",
              "<style scoped>\n",
              "    .dataframe tbody tr th:only-of-type {\n",
              "        vertical-align: middle;\n",
              "    }\n",
              "\n",
              "    .dataframe tbody tr th {\n",
              "        vertical-align: top;\n",
              "    }\n",
              "\n",
              "    .dataframe thead th {\n",
              "        text-align: right;\n",
              "    }\n",
              "</style>\n",
              "<table border=\"1\" class=\"dataframe\">\n",
              "  <thead>\n",
              "    <tr style=\"text-align: right;\">\n",
              "      <th></th>\n",
              "      <th>AGE</th>\n",
              "      <th>avg</th>\n",
              "    </tr>\n",
              "  </thead>\n",
              "  <tbody>\n",
              "    <tr>\n",
              "      <th>count</th>\n",
              "      <td>1000.000000</td>\n",
              "      <td>1000.000000</td>\n",
              "    </tr>\n",
              "    <tr>\n",
              "      <th>mean</th>\n",
              "      <td>56.520000</td>\n",
              "      <td>78.346700</td>\n",
              "    </tr>\n",
              "    <tr>\n",
              "      <th>std</th>\n",
              "      <td>12.390445</td>\n",
              "      <td>12.431321</td>\n",
              "    </tr>\n",
              "    <tr>\n",
              "      <th>min</th>\n",
              "      <td>29.000000</td>\n",
              "      <td>61.330000</td>\n",
              "    </tr>\n",
              "    <tr>\n",
              "      <th>25%</th>\n",
              "      <td>45.000000</td>\n",
              "      <td>69.000000</td>\n",
              "    </tr>\n",
              "    <tr>\n",
              "      <th>50%</th>\n",
              "      <td>56.500000</td>\n",
              "      <td>76.416500</td>\n",
              "    </tr>\n",
              "    <tr>\n",
              "      <th>75%</th>\n",
              "      <td>67.000000</td>\n",
              "      <td>88.330000</td>\n",
              "    </tr>\n",
              "    <tr>\n",
              "      <th>max</th>\n",
              "      <td>85.000000</td>\n",
              "      <td>114.300000</td>\n",
              "    </tr>\n",
              "  </tbody>\n",
              "</table>\n",
              "</div>"
            ],
            "text/plain": [
              "               AGE          avg\n",
              "count  1000.000000  1000.000000\n",
              "mean     56.520000    78.346700\n",
              "std      12.390445    12.431321\n",
              "min      29.000000    61.330000\n",
              "25%      45.000000    69.000000\n",
              "50%      56.500000    76.416500\n",
              "75%      67.000000    88.330000\n",
              "max      85.000000   114.300000"
            ]
          },
          "execution_count": 38,
          "metadata": {},
          "output_type": "execute_result"
        }
      ],
      "source": [
        "df.describe()"
      ]
    },
    {
      "cell_type": "code",
      "execution_count": 39,
      "metadata": {
        "colab": {
          "base_uri": "https://localhost:8080/",
          "height": 206
        },
        "id": "7enRs9T6axVR",
        "outputId": "7492ada6-750d-4b84-fa13-87080005e35a"
      },
      "outputs": [
        {
          "data": {
            "text/html": [
              "<div>\n",
              "<style scoped>\n",
              "    .dataframe tbody tr th:only-of-type {\n",
              "        vertical-align: middle;\n",
              "    }\n",
              "\n",
              "    .dataframe tbody tr th {\n",
              "        vertical-align: top;\n",
              "    }\n",
              "\n",
              "    .dataframe thead th {\n",
              "        text-align: right;\n",
              "    }\n",
              "</style>\n",
              "<table border=\"1\" class=\"dataframe\">\n",
              "  <thead>\n",
              "    <tr style=\"text-align: right;\">\n",
              "      <th></th>\n",
              "      <th>AGE</th>\n",
              "      <th>SEX</th>\n",
              "      <th>ASSO MEDICAL PROB</th>\n",
              "      <th>H/O INJURY/SURGERY</th>\n",
              "      <th>DRUG HISTORY</th>\n",
              "      <th>FREQUENCY</th>\n",
              "      <th>avg</th>\n",
              "    </tr>\n",
              "  </thead>\n",
              "  <tbody>\n",
              "    <tr>\n",
              "      <th>0</th>\n",
              "      <td>29</td>\n",
              "      <td>Male</td>\n",
              "      <td>no</td>\n",
              "      <td>no</td>\n",
              "      <td>no</td>\n",
              "      <td>115, 115, 113</td>\n",
              "      <td>114.30</td>\n",
              "    </tr>\n",
              "    <tr>\n",
              "      <th>1</th>\n",
              "      <td>36</td>\n",
              "      <td>Female</td>\n",
              "      <td>no</td>\n",
              "      <td>no</td>\n",
              "      <td>no</td>\n",
              "      <td>95,94,96</td>\n",
              "      <td>94.00</td>\n",
              "    </tr>\n",
              "    <tr>\n",
              "      <th>2</th>\n",
              "      <td>37</td>\n",
              "      <td>Male</td>\n",
              "      <td>no</td>\n",
              "      <td>no</td>\n",
              "      <td>no</td>\n",
              "      <td>80,82,81</td>\n",
              "      <td>81.00</td>\n",
              "    </tr>\n",
              "    <tr>\n",
              "      <th>3</th>\n",
              "      <td>37</td>\n",
              "      <td>Female</td>\n",
              "      <td>no</td>\n",
              "      <td>no</td>\n",
              "      <td>no</td>\n",
              "      <td>100, 101, 100</td>\n",
              "      <td>100.33</td>\n",
              "    </tr>\n",
              "    <tr>\n",
              "      <th>4</th>\n",
              "      <td>38</td>\n",
              "      <td>female</td>\n",
              "      <td>no</td>\n",
              "      <td>no</td>\n",
              "      <td>no</td>\n",
              "      <td>9,91,00,100.40</td>\n",
              "      <td>99.80</td>\n",
              "    </tr>\n",
              "  </tbody>\n",
              "</table>\n",
              "</div>"
            ],
            "text/plain": [
              "   AGE     SEX ASSO MEDICAL PROB H/O INJURY/SURGERY DRUG HISTORY  \\\n",
              "0   29    Male                no                 no           no   \n",
              "1   36  Female                no                 no           no   \n",
              "2   37    Male                no                 no           no   \n",
              "3   37  Female                no                 no           no   \n",
              "4   38  female                no                 no           no   \n",
              "\n",
              "        FREQUENCY     avg  \n",
              "0   115, 115, 113  114.30  \n",
              "1        95,94,96   94.00  \n",
              "2        80,82,81   81.00  \n",
              "3   100, 101, 100  100.33  \n",
              "4  9,91,00,100.40   99.80  "
            ]
          },
          "execution_count": 39,
          "metadata": {},
          "output_type": "execute_result"
        }
      ],
      "source": [
        "df.head()"
      ]
    },
    {
      "cell_type": "code",
      "execution_count": 40,
      "metadata": {
        "colab": {
          "base_uri": "https://localhost:8080/"
        },
        "id": "3SE9N54bbM-K",
        "outputId": "65e088ce-7934-4d2f-f2a9-cbd176d02886"
      },
      "outputs": [
        {
          "data": {
            "text/plain": [
              "Index(['AGE', 'SEX', 'ASSO MEDICAL PROB', 'H/O INJURY/SURGERY', 'DRUG HISTORY',\n",
              "       'FREQUENCY', 'avg'],\n",
              "      dtype='object')"
            ]
          },
          "execution_count": 40,
          "metadata": {},
          "output_type": "execute_result"
        }
      ],
      "source": [
        "df.columns"
      ]
    },
    {
      "cell_type": "code",
      "execution_count": 41,
      "metadata": {
        "id": "hMjuHWdDa4QI"
      },
      "outputs": [],
      "source": [
        "cols=['SEX', 'ASSO MEDICAL PROB', 'H/O INJURY/SURGERY', 'DRUG HISTORY']"
      ]
    },
    {
      "cell_type": "code",
      "execution_count": 42,
      "metadata": {
        "colab": {
          "base_uri": "https://localhost:8080/"
        },
        "id": "qxD-ELpybB57",
        "outputId": "ff6dba04-779d-49ab-c30a-488296fe4762"
      },
      "outputs": [
        {
          "name": "stdout",
          "output_type": "stream",
          "text": [
            "SEX : \n",
            "['Male' 'Female' 'female' 'male']\n",
            "ASSO MEDICAL PROB : \n",
            "['no' 'No' 'yes(diabetes)' 'yes (diabetes)' 'yes(bp)' 'kidney stone'\n",
            " 'yes(increase in heart rate)' 'Yes(Diabetes,bp)' 'yes(bp dabetes)'\n",
            " 'yes(diabetes,bp)' 'Yes(Diabetes,Blockage in Heart)'\n",
            " 'yes(diabetes,kidney stone)' 'yes (diabetes,heart blockage)']\n",
            "H/O INJURY/SURGERY : \n",
            "['no' 'vericose vein surgery' 'uteres removal' 'kidney stone opreration'\n",
            " 'uterus surgery' 'yes(diverticulities)' 'shouler surgery' 'knee surgery'\n",
            " 'yes(open heart surgery)']\n",
            "DRUG HISTORY : \n",
            "['no' 'yes' 'yes(ecosprin)']\n"
          ]
        }
      ],
      "source": [
        "for i in cols:\n",
        "  print(i +\" : \")\n",
        "  print(df[i].unique())"
      ]
    },
    {
      "cell_type": "code",
      "execution_count": 43,
      "metadata": {
        "id": "My3yeDMHXj2p"
      },
      "outputs": [],
      "source": [
        "df['SEX']=df['SEX'].map({'Male':1,'Female':0,'female':0,'male':1})\n",
        "df['ASSO MEDICAL PROB']=df['ASSO MEDICAL PROB'].map({'no':0,'No':0,'yes(diabetes)':1,'yes (diabetes)':1,'yes(bp)':2,'kidney stone':3,'yes(increase in heart rate)':4,'Yes(Diabetes,bp)':5,'yes(bp dabetes)':5,'yes(diabetes,bp)':5,'Yes(Diabetes,Blockage in Heart)':6,'yes (diabetes,heart blockage)':6,'yes(diabetes,kidney stone)':7})\n",
        "df['H/O INJURY/SURGERY']=df['H/O INJURY/SURGERY'].map({'no':0,'vericose vein surgery':1,'uteres removal':2,'kidney stone opreration':3,'uterus surgery':4,'yes(diverticulities)':5,'shouler surgery':6,'knee surgery':7,'yes(open heart surgery)':8})\n",
        "df['DRUG HISTORY']=df['DRUG HISTORY'].map({'no':0,'yes':1,'yes(ecosprin)':2})\n",
        "\n",
        "                             "
      ]
    },
    {
      "cell_type": "code",
      "execution_count": 44,
      "metadata": {
        "colab": {
          "base_uri": "https://localhost:8080/",
          "height": 424
        },
        "id": "yBK-KvRSXqpN",
        "outputId": "c04dd452-2b46-4b79-a745-2eba7b3240ce"
      },
      "outputs": [
        {
          "data": {
            "text/html": [
              "<div>\n",
              "<style scoped>\n",
              "    .dataframe tbody tr th:only-of-type {\n",
              "        vertical-align: middle;\n",
              "    }\n",
              "\n",
              "    .dataframe tbody tr th {\n",
              "        vertical-align: top;\n",
              "    }\n",
              "\n",
              "    .dataframe thead th {\n",
              "        text-align: right;\n",
              "    }\n",
              "</style>\n",
              "<table border=\"1\" class=\"dataframe\">\n",
              "  <thead>\n",
              "    <tr style=\"text-align: right;\">\n",
              "      <th></th>\n",
              "      <th>AGE</th>\n",
              "      <th>SEX</th>\n",
              "      <th>ASSO MEDICAL PROB</th>\n",
              "      <th>H/O INJURY/SURGERY</th>\n",
              "      <th>DRUG HISTORY</th>\n",
              "      <th>FREQUENCY</th>\n",
              "      <th>avg</th>\n",
              "    </tr>\n",
              "  </thead>\n",
              "  <tbody>\n",
              "    <tr>\n",
              "      <th>0</th>\n",
              "      <td>29</td>\n",
              "      <td>1</td>\n",
              "      <td>0</td>\n",
              "      <td>0</td>\n",
              "      <td>0</td>\n",
              "      <td>115, 115, 113</td>\n",
              "      <td>114.30</td>\n",
              "    </tr>\n",
              "    <tr>\n",
              "      <th>1</th>\n",
              "      <td>36</td>\n",
              "      <td>0</td>\n",
              "      <td>0</td>\n",
              "      <td>0</td>\n",
              "      <td>0</td>\n",
              "      <td>95,94,96</td>\n",
              "      <td>94.00</td>\n",
              "    </tr>\n",
              "    <tr>\n",
              "      <th>2</th>\n",
              "      <td>37</td>\n",
              "      <td>1</td>\n",
              "      <td>0</td>\n",
              "      <td>0</td>\n",
              "      <td>0</td>\n",
              "      <td>80,82,81</td>\n",
              "      <td>81.00</td>\n",
              "    </tr>\n",
              "    <tr>\n",
              "      <th>3</th>\n",
              "      <td>37</td>\n",
              "      <td>0</td>\n",
              "      <td>0</td>\n",
              "      <td>0</td>\n",
              "      <td>0</td>\n",
              "      <td>100, 101, 100</td>\n",
              "      <td>100.33</td>\n",
              "    </tr>\n",
              "    <tr>\n",
              "      <th>4</th>\n",
              "      <td>38</td>\n",
              "      <td>0</td>\n",
              "      <td>0</td>\n",
              "      <td>0</td>\n",
              "      <td>0</td>\n",
              "      <td>9,91,00,100.40</td>\n",
              "      <td>99.80</td>\n",
              "    </tr>\n",
              "    <tr>\n",
              "      <th>...</th>\n",
              "      <td>...</td>\n",
              "      <td>...</td>\n",
              "      <td>...</td>\n",
              "      <td>...</td>\n",
              "      <td>...</td>\n",
              "      <td>...</td>\n",
              "      <td>...</td>\n",
              "    </tr>\n",
              "    <tr>\n",
              "      <th>995</th>\n",
              "      <td>72</td>\n",
              "      <td>1</td>\n",
              "      <td>0</td>\n",
              "      <td>0</td>\n",
              "      <td>0</td>\n",
              "      <td>68, 69, 68</td>\n",
              "      <td>68.30</td>\n",
              "    </tr>\n",
              "    <tr>\n",
              "      <th>996</th>\n",
              "      <td>72</td>\n",
              "      <td>1</td>\n",
              "      <td>6</td>\n",
              "      <td>6</td>\n",
              "      <td>1</td>\n",
              "      <td>69,70,71</td>\n",
              "      <td>70.00</td>\n",
              "    </tr>\n",
              "    <tr>\n",
              "      <th>997</th>\n",
              "      <td>74</td>\n",
              "      <td>0</td>\n",
              "      <td>5</td>\n",
              "      <td>7</td>\n",
              "      <td>1</td>\n",
              "      <td>63,62,62.6</td>\n",
              "      <td>62.53</td>\n",
              "    </tr>\n",
              "    <tr>\n",
              "      <th>998</th>\n",
              "      <td>76</td>\n",
              "      <td>1</td>\n",
              "      <td>7</td>\n",
              "      <td>0</td>\n",
              "      <td>0</td>\n",
              "      <td>62,61,62.5</td>\n",
              "      <td>61.83</td>\n",
              "    </tr>\n",
              "    <tr>\n",
              "      <th>999</th>\n",
              "      <td>85</td>\n",
              "      <td>1</td>\n",
              "      <td>6</td>\n",
              "      <td>8</td>\n",
              "      <td>1</td>\n",
              "      <td>62,63,64</td>\n",
              "      <td>63.00</td>\n",
              "    </tr>\n",
              "  </tbody>\n",
              "</table>\n",
              "<p>1000 rows × 7 columns</p>\n",
              "</div>"
            ],
            "text/plain": [
              "     AGE  SEX  ASSO MEDICAL PROB  H/O INJURY/SURGERY  DRUG HISTORY  \\\n",
              "0     29    1                  0                   0             0   \n",
              "1     36    0                  0                   0             0   \n",
              "2     37    1                  0                   0             0   \n",
              "3     37    0                  0                   0             0   \n",
              "4     38    0                  0                   0             0   \n",
              "..   ...  ...                ...                 ...           ...   \n",
              "995   72    1                  0                   0             0   \n",
              "996   72    1                  6                   6             1   \n",
              "997   74    0                  5                   7             1   \n",
              "998   76    1                  7                   0             0   \n",
              "999   85    1                  6                   8             1   \n",
              "\n",
              "          FREQUENCY     avg  \n",
              "0     115, 115, 113  114.30  \n",
              "1          95,94,96   94.00  \n",
              "2          80,82,81   81.00  \n",
              "3     100, 101, 100  100.33  \n",
              "4    9,91,00,100.40   99.80  \n",
              "..              ...     ...  \n",
              "995      68, 69, 68   68.30  \n",
              "996        69,70,71   70.00  \n",
              "997      63,62,62.6   62.53  \n",
              "998      62,61,62.5   61.83  \n",
              "999        62,63,64   63.00  \n",
              "\n",
              "[1000 rows x 7 columns]"
            ]
          },
          "execution_count": 44,
          "metadata": {},
          "output_type": "execute_result"
        }
      ],
      "source": [
        "df"
      ]
    },
    {
      "cell_type": "code",
      "execution_count": 45,
      "metadata": {
        "colab": {
          "base_uri": "https://localhost:8080/"
        },
        "id": "2GiyUKfHlPv5",
        "outputId": "b8623ca7-0498-4e9b-83b4-89063160850f"
      },
      "outputs": [
        {
          "name": "stdout",
          "output_type": "stream",
          "text": [
            "SEX : \n",
            "[1 0]\n",
            "ASSO MEDICAL PROB : \n",
            "[0 1 2 3 4 5 6 7]\n",
            "H/O INJURY/SURGERY : \n",
            "[0 1 2 3 4 5 6 7 8]\n",
            "DRUG HISTORY : \n",
            "[0 1 2]\n"
          ]
        }
      ],
      "source": [
        "for i in cols:\n",
        "  print(i +\" : \")\n",
        "  print(df[i].unique())"
      ]
    },
    {
      "cell_type": "code",
      "execution_count": 46,
      "metadata": {
        "colab": {
          "base_uri": "https://localhost:8080/"
        },
        "id": "fOxZyvJ1nFet",
        "outputId": "edf18f7e-22ab-42bb-8635-af90ff4a9870"
      },
      "outputs": [
        {
          "data": {
            "text/plain": [
              "Index(['AGE', 'SEX', 'ASSO MEDICAL PROB', 'H/O INJURY/SURGERY', 'DRUG HISTORY',\n",
              "       'FREQUENCY', 'avg'],\n",
              "      dtype='object')"
            ]
          },
          "execution_count": 46,
          "metadata": {},
          "output_type": "execute_result"
        }
      ],
      "source": [
        "df.columns"
      ]
    },
    {
      "cell_type": "code",
      "execution_count": 47,
      "metadata": {
        "id": "Cpwp1355nOqK"
      },
      "outputs": [],
      "source": [
        "cols2=['AGE', 'SEX', 'ASSO MEDICAL PROB', 'H/O INJURY/SURGERY', 'DRUG HISTORY']"
      ]
    },
    {
      "cell_type": "code",
      "execution_count": 48,
      "metadata": {
        "colab": {
          "base_uri": "https://localhost:8080/",
          "height": 1000
        },
        "id": "e4knw6hTdXCv",
        "outputId": "73e3035f-2b35-4c0f-ae29-c2b998c4c566"
      },
      "outputs": [
        {
          "data": {
            "image/png": "[encoded data removed]",
            "text/plain": [
              "<Figure size 432x288 with 1 Axes>"
            ]
          },
          "metadata": {
            "needs_background": "light"
          },
          "output_type": "display_data"
        },
        {
          "data": {
            "image/png": "[encoded data removed]",
            "text/plain": [
              "<Figure size 432x288 with 1 Axes>"
            ]
          },
          "metadata": {
            "needs_background": "light"
          },
          "output_type": "display_data"
        },
        {
          "data": {
            "image/png": "[encoded data removed]",
            "text/plain": [
              "<Figure size 432x288 with 1 Axes>"
            ]
          },
          "metadata": {
            "needs_background": "light"
          },
          "output_type": "display_data"
        },
        {
          "data": {
            "image/png": "[encoded data removed]",
            "text/plain": [
              "<Figure size 432x288 with 1 Axes>"
            ]
          },
          "metadata": {
            "needs_background": "light"
          },
          "output_type": "display_data"
        },
        {
          "data": {
            "image/png": "[encoded data removed]",
            "text/plain": [
              "<Figure size 432x288 with 1 Axes>"
            ]
          },
          "metadata": {
            "needs_background": "light"
          },
          "output_type": "display_data"
        }
      ],
      "source": [
        "for i in cols2:\n",
        "  sns.scatterplot(x=df['avg'],y=df[i],hue=df['avg'])\n",
        "  plt.show()"
      ]
    },
    {
      "cell_type": "code",
      "execution_count": 49,
      "metadata": {
        "colab": {
          "base_uri": "https://localhost:8080/",
          "height": 365
        },
        "id": "sQcVUIuhoEHC",
        "outputId": "9f28ced8-a33e-4d70-cada-c627b7ec4d7f"
      },
      "outputs": [
        {
          "data": {
            "image/png": "[encoded data removed]",
            "text/plain": [
              "<Figure size 432x288 with 2 Axes>"
            ]
          },
          "metadata": {
            "needs_background": "light"
          },
          "output_type": "display_data"
        }
      ],
      "source": [
        "sns.heatmap(df.corr(),annot=True)\n",
        "plt.show()"
      ]
    },
    {
      "cell_type": "code",
      "execution_count": 50,
      "metadata": {
        "id": "7PJMYZHMp55h"
      },
      "outputs": [],
      "source": [
        "from sklearn.ensemble import RandomForestClassifier  \n",
        "from sklearn.metrics import accuracy_score\n",
        "from sklearn.model_selection import train_test_split"
      ]
    },
    {
      "cell_type": "code",
      "execution_count": 51,
      "metadata": {
        "id": "a760A2yBs93O"
      },
      "outputs": [],
      "source": [
        "classifier= RandomForestClassifier(n_estimators= 10, criterion=\"entropy\")"
      ]
    },
    {
      "cell_type": "code",
      "execution_count": 52,
      "metadata": {
        "id": "r8SBil0otKG-"
      },
      "outputs": [],
      "source": [
        "x=df.drop(['avg','FREQUENCY'],axis=1)\n",
        "y=df['avg'].astype(int)"
      ]
    },
    {
      "cell_type": "code",
      "execution_count": 53,
      "metadata": {
        "colab": {
          "base_uri": "https://localhost:8080/"
        },
        "id": "1b_M4q5RtcM7",
        "outputId": "222b56b4-415d-4a18-fb13-d2f85b9d94e1"
      },
      "outputs": [
        {
          "name": "stdout",
          "output_type": "stream",
          "text": [
            "     AGE  SEX  ASSO MEDICAL PROB  H/O INJURY/SURGERY  DRUG HISTORY\n",
            "0     29    1                  0                   0             0\n",
            "1     36    0                  0                   0             0\n",
            "2     37    1                  0                   0             0\n",
            "3     37    0                  0                   0             0\n",
            "4     38    0                  0                   0             0\n",
            "..   ...  ...                ...                 ...           ...\n",
            "995   72    1                  0                   0             0\n",
            "996   72    1                  6                   6             1\n",
            "997   74    0                  5                   7             1\n",
            "998   76    1                  7                   0             0\n",
            "999   85    1                  6                   8             1\n",
            "\n",
            "[1000 rows x 5 columns]\n",
            "0      114\n",
            "1       94\n",
            "2       81\n",
            "3      100\n",
            "4       99\n",
            "      ... \n",
            "995     68\n",
            "996     70\n",
            "997     62\n",
            "998     61\n",
            "999     63\n",
            "Name: avg, Length: 1000, dtype: int32\n"
          ]
        }
      ],
      "source": [
        "print(x)\n",
        "print(y)"
      ]
    },
    {
      "cell_type": "code",
      "execution_count": 54,
      "metadata": {
        "id": "pNl46GyEtAPJ"
      },
      "outputs": [],
      "source": [
        "xtrain,xtest,ytrain,ytest=train_test_split(x,y,random_state=1,test_size=0.3)"
      ]
    },
    {
      "cell_type": "code",
      "execution_count": 55,
      "metadata": {
        "colab": {
          "base_uri": "https://localhost:8080/"
        },
        "id": "j5iOc3Ng_D5m",
        "outputId": "070a3b5b-c228-4d95-f63b-486f47bae3e4"
      },
      "outputs": [
        {
          "data": {
            "text/plain": [
              "<bound method DataFrame.count of      AGE  SEX  ASSO MEDICAL PROB  H/O INJURY/SURGERY  DRUG HISTORY\n",
              "731   62    0                  3                   3             1\n",
              "716   52    0                  2                   0             0\n",
              "640   68    1                  0                   5             2\n",
              "804   38    0                  0                   0             0\n",
              "737   67    1                  1                   0             1\n",
              "..   ...  ...                ...                 ...           ...\n",
              "767   52    0                  0                   0             0\n",
              "72    56    0                  0                   0             0\n",
              "908   42    0                  0                   0             0\n",
              "235   66    0                  5                   0             0\n",
              "37    67    1                  1                   0             1\n",
              "\n",
              "[700 rows x 5 columns]>"
            ]
          },
          "execution_count": 55,
          "metadata": {},
          "output_type": "execute_result"
        }
      ],
      "source": [
        "xtrain.count"
      ]
    },
    {
      "cell_type": "code",
      "execution_count": 56,
      "metadata": {
        "colab": {
          "base_uri": "https://localhost:8080/"
        },
        "id": "9fXruOuT_Gwb",
        "outputId": "f79c44df-5731-4bc0-cfa5-762974c18ccd"
      },
      "outputs": [
        {
          "data": {
            "text/plain": [
              "<bound method Series.count of 731    75\n",
              "716    84\n",
              "640    62\n",
              "804    99\n",
              "737    69\n",
              "       ..\n",
              "767    88\n",
              "72     77\n",
              "908    88\n",
              "235    68\n",
              "37     69\n",
              "Name: avg, Length: 700, dtype: int32>"
            ]
          },
          "execution_count": 56,
          "metadata": {},
          "output_type": "execute_result"
        }
      ],
      "source": [
        "ytrain.count"
      ]
    },
    {
      "cell_type": "code",
      "execution_count": 57,
      "metadata": {
        "colab": {
          "base_uri": "https://localhost:8080/"
        },
        "id": "eWkdfLxP9MZx",
        "outputId": "a541dd29-e9ca-4e12-edaf-95105f57f1ea"
      },
      "outputs": [
        {
          "data": {
            "text/html": [
              "<style>#sk-container-id-2 {color: black;background-color: white;}#sk-container-id-2 pre{padding: 0;}#sk-container-id-2 div.sk-toggleable {background-color: white;}#sk-container-id-2 label.sk-toggleable__label {cursor: pointer;display: block;width: 100%;margin-bottom: 0;padding: 0.3em;box-sizing: border-box;text-align: center;}#sk-container-id-2 label.sk-toggleable__label-arrow:before {content: \"▸\";float: left;margin-right: 0.25em;color: #696969;}#sk-container-id-2 label.sk-toggleable__label-arrow:hover:before {color: black;}#sk-container-id-2 div.sk-estimator:hover label.sk-toggleable__label-arrow:before {color: black;}#sk-container-id-2 div.sk-toggleable__content {max-height: 0;max-width: 0;overflow: hidden;text-align: left;background-color: #f0f8ff;}#sk-container-id-2 div.sk-toggleable__content pre {margin: 0.2em;color: black;border-radius: 0.25em;background-color: #f0f8ff;}#sk-container-id-2 input.sk-toggleable__control:checked~div.sk-toggleable__content {max-height: 200px;max-width: 100%;overflow: auto;}#sk-container-id-2 input.sk-toggleable__control:checked~label.sk-toggleable__label-arrow:before {content: \"▾\";}#sk-container-id-2 div.sk-estimator input.sk-toggleable__control:checked~label.sk-toggleable__label {background-color: #d4ebff;}#sk-container-id-2 div.sk-label input.sk-toggleable__control:checked~label.sk-toggleable__label {background-color: #d4ebff;}#sk-container-id-2 input.sk-hidden--visually {border: 0;clip: rect(1px 1px 1px 1px);clip: rect(1px, 1px, 1px, 1px);height: 1px;margin: -1px;overflow: hidden;padding: 0;position: absolute;width: 1px;}#sk-container-id-2 div.sk-estimator {font-family: monospace;background-color: #f0f8ff;border: 1px dotted black;border-radius: 0.25em;box-sizing: border-box;margin-bottom: 0.5em;}#sk-container-id-2 div.sk-estimator:hover {background-color: #d4ebff;}#sk-container-id-2 div.sk-parallel-item::after {content: \"\";width: 100%;border-bottom: 1px solid gray;flex-grow: 1;}#sk-container-id-2 div.sk-label:hover label.sk-toggleable__label {background-color: #d4ebff;}#sk-container-id-2 div.sk-serial::before {content: \"\";position: absolute;border-left: 1px solid gray;box-sizing: border-box;top: 0;bottom: 0;left: 50%;z-index: 0;}#sk-container-id-2 div.sk-serial {display: flex;flex-direction: column;align-items: center;background-color: white;padding-right: 0.2em;padding-left: 0.2em;position: relative;}#sk-container-id-2 div.sk-item {position: relative;z-index: 1;}#sk-container-id-2 div.sk-parallel {display: flex;align-items: stretch;justify-content: center;background-color: white;position: relative;}#sk-container-id-2 div.sk-item::before, #sk-container-id-2 div.sk-parallel-item::before {content: \"\";position: absolute;border-left: 1px solid gray;box-sizing: border-box;top: 0;bottom: 0;left: 50%;z-index: -1;}#sk-container-id-2 div.sk-parallel-item {display: flex;flex-direction: column;z-index: 1;position: relative;background-color: white;}#sk-container-id-2 div.sk-parallel-item:first-child::after {align-self: flex-end;width: 50%;}#sk-container-id-2 div.sk-parallel-item:last-child::after {align-self: flex-start;width: 50%;}#sk-container-id-2 div.sk-parallel-item:only-child::after {width: 0;}#sk-container-id-2 div.sk-dashed-wrapped {border: 1px dashed gray;margin: 0 0.4em 0.5em 0.4em;box-sizing: border-box;padding-bottom: 0.4em;background-color: white;}#sk-container-id-2 div.sk-label label {font-family: monospace;font-weight: bold;display: inline-block;line-height: 1.2em;}#sk-container-id-2 div.sk-label-container {text-align: center;}#sk-container-id-2 div.sk-container {/* jupyter's `normalize.less` sets `[hidden] { display: none; }` but bootstrap.min.css set `[hidden] { display: none !important; }` so we also need the `!important` here to be able to override the default hidden behavior on the sphinx rendered scikit-learn.org. See: https://github.com/scikit-learn/scikit-learn/issues/21755 */display: inline-block !important;position: relative;}#sk-container-id-2 div.sk-text-repr-fallback {display: none;}</style><div id=\"sk-container-id-2\" class=\"sk-top-container\"><div class=\"sk-text-repr-fallback\"><pre>RandomForestClassifier(criterion=&#x27;entropy&#x27;, n_estimators=10)</pre><b>In a Jupyter environment, please rerun this cell to show the HTML representation or trust the notebook. <br />On GitHub, the HTML representation is unable to render, please try loading this page with nbviewer.org.</b></div><div class=\"sk-container\" hidden><div class=\"sk-item\"><div class=\"sk-estimator sk-toggleable\"><input class=\"sk-toggleable__control sk-hidden--visually\" id=\"sk-estimator-id-2\" type=\"checkbox\" checked><label for=\"sk-estimator-id-2\" class=\"sk-toggleable__label sk-toggleable__label-arrow\">RandomForestClassifier</label><div class=\"sk-toggleable__content\"><pre>RandomForestClassifier(criterion=&#x27;entropy&#x27;, n_estimators=10)</pre></div></div></div></div></div>"
            ],
            "text/plain": [
              "RandomForestClassifier(criterion='entropy', n_estimators=10)"
            ]
          },
          "execution_count": 57,
          "metadata": {},
          "output_type": "execute_result"
        }
      ],
      "source": [
        "classifier.fit(xtrain,ytrain)"
      ]
    },
    {
      "cell_type": "code",
      "execution_count": 58,
      "metadata": {
        "id": "4DZEWKFd9Tgy"
      },
      "outputs": [],
      "source": [
        "ypred2= classifier.predict(xtest)"
      ]
    },
    {
      "cell_type": "code",
      "execution_count": 59,
      "metadata": {
        "colab": {
          "base_uri": "https://localhost:8080/"
        },
        "id": "p4VtgbCW9b_5",
        "outputId": "e47bbcb4-8688-4f0e-db47-6839b714df6a"
      },
      "outputs": [
        {
          "name": "stdout",
          "output_type": "stream",
          "text": [
            "[ 98  80  81  80  75  69  84  89  80  63  70  75  80  68  77  64  99  99\n",
            " 114  70  81  77  61  81  64  78  88  62  61  72  89  80  64  64  99  72\n",
            "  72  77  64  91  77  70  62  94  64  72  69  70 100  68  85  71  61  68\n",
            "  61  99  68  72  69  68  98  67  68  71  77  84  91  84  72  80  91  78\n",
            "  70  91  98  80  70  67  75  67  99  75  99  98  94  75  85  65  77  72\n",
            "  99  61  80  99  91  77  91  65  88  99  68  85  88  99  72  72  80  67\n",
            "  69  64  69  68 114  91  80  72  88  63  78  64  66  88 100  64  69  64\n",
            "  63  70  72  75  94  61  91  81  62  89  81  98  88  78  77  80  67  68\n",
            "  88  91  84  84  99  81  99  78  88  75  99  81  99  94  71  72  91  99\n",
            "  72  67  69  77  64  62  62  68  81  75  71  65  72  94  69  84  77  80\n",
            "  84 114  64  77  75  91 114  77  69  64  63  81  64  71  72  66  72 114\n",
            "  88  98  70  64  70  62  77  69  78  84  62  81  72  99  68  69  77  99\n",
            "  99  72  68  89  91  75  94  78  64  88  98  62  67  99  63 114  64  72\n",
            " 100  70  64  66  75  84  85  68  78  63  89  68  62  61  68  80  61  89\n",
            "  80  88  70  70  99  99  65  61  77  69  69  84  77  65  70  81  80  99\n",
            "  88  77  75  78 114  81  94  63  65  61  94  77  72  80  72  80  70  89\n",
            "  68  66  70  68  69  70  63  91  80  88  62  63]\n"
          ]
        }
      ],
      "source": [
        "print(ypred2)"
      ]
    },
    {
      "cell_type": "code",
      "execution_count": 60,
      "metadata": {
        "colab": {
          "base_uri": "https://localhost:8080/"
        },
        "id": "-p9gqIaXuTWO",
        "outputId": "6211ada1-c1a6-46df-a17e-3fd93ac0372c"
      },
      "outputs": [
        {
          "data": {
            "text/plain": [
              "0.94"
            ]
          },
          "execution_count": 60,
          "metadata": {},
          "output_type": "execute_result"
        }
      ],
      "source": [
        "accuracy_score(ytest,ypred2)"
      ]
    },
    {
      "cell_type": "code",
      "execution_count": 61,
      "metadata": {
        "id": "_YDNX9sCVYhJ"
      },
      "outputs": [],
      "source": [
        "Age=29\n",
        "Gender=1\n",
        "Prob=3\n",
        "INJURY=2\n",
        "DRUG=1"
      ]
    },
    {
      "cell_type": "code",
      "execution_count": 62,
      "metadata": {
        "id": "VyjdfgBaVPLL"
      },
      "outputs": [],
      "source": [
        "test=[[Age,Gender,Prob,INJURY,DRUG]]"
      ]
    },
    {
      "cell_type": "code",
      "execution_count": 63,
      "metadata": {
        "id": "7ktzRcn1VMTj"
      },
      "outputs": [],
      "source": [
        "def give_pred(test):\n",
        "    prediction=classifier.predict(test)\n",
        "    print(prediction)\n",
        "    if prediction > 100 :\n",
        "      return 'Osteoporotic'\n",
        "    elif prediction > 60 and prediction < 100 :\n",
        "      return 'Osteopenia'\n",
        "    elif prediction < 60:\n",
        "      return 'Normal'"
      ]
    },
    {
      "cell_type": "code",
      "execution_count": 64,
      "metadata": {
        "colab": {
          "base_uri": "https://localhost:8080/"
        },
        "id": "8ZO3t3WVVj3x",
        "outputId": "0ba74dbc-290f-4768-9b26-eda89e6be799"
      },
      "outputs": [
        {
          "name": "stdout",
          "output_type": "stream",
          "text": [
            "[75]\n",
            "Osteopenia\n"
          ]
        },
        {
          "name": "stderr",
          "output_type": "stream",
          "text": [
            "c:\\Users\\manas\\AppData\\Local\\Programs\\Python\\Python38\\lib\\site-packages\\sklearn\\base.py:450: UserWarning: X does not have valid feature names, but RandomForestClassifier was fitted with feature names\n",
            "  warnings.warn(\n"
          ]
        }
      ],
      "source": [
        "print(give_pred(test))"
      ]
    },
    {
      "cell_type": "code",
      "execution_count": null,
      "metadata": {
        "id": "hGJr7qyjVpux"
      },
      "outputs": [],
      "source": []
    }
  ],
  "metadata": {
    "colab": {
      "provenance": []
    },
    "kernelspec": {
      "display_name": "Python 3",
      "name": "python3"
    },
    "language_info": {
      "name": "python"
    }
  },
  "nbformat": 4,
  "nbformat_minor": 0
}
